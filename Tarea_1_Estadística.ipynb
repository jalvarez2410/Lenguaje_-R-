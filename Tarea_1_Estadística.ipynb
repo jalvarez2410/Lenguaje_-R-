{
  "nbformat": 4,
  "nbformat_minor": 0,
  "metadata": {
    "colab": {
      "provenance": [],
      "authorship_tag": "ABX9TyMF/p4uuClkNZR3hizjjo6R",
      "include_colab_link": true
    },
    "kernelspec": {
      "name": "ir",
      "display_name": "R"
    },
    "language_info": {
      "name": "R"
    }
  },
  "cells": [
    {
      "cell_type": "markdown",
      "metadata": {
        "id": "view-in-github",
        "colab_type": "text"
      },
      "source": [
        "<a href=\"https://colab.research.google.com/github/jalvarez2410/Lenguaje_-R-/blob/main/Tarea_1_Estad%C3%ADstica.ipynb\" target=\"_parent\"><img src=\"https://colab.research.google.com/assets/colab-badge.svg\" alt=\"Open In Colab\"/></a>"
      ]
    },
    {
      "cell_type": "markdown",
      "source": [
        "#José Antonio Alvarez Guillén\n",
        "#Carnet: 1113-24-6939\n",
        "\n"
      ],
      "metadata": {
        "id": "dOQiYNr7PlhY"
      }
    },
    {
      "cell_type": "code",
      "execution_count": 42,
      "metadata": {
        "colab": {
          "base_uri": "https://localhost:8080/"
        },
        "id": "EWBoUaZUFXU_",
        "outputId": "4850f754-cd9c-4ebc-ebe8-08d528fc5a5a"
      },
      "outputs": [
        {
          "output_type": "stream",
          "name": "stdout",
          "text": [
            "Ingrese un número: 7\n",
            "[1] \"Impar\"\n"
          ]
        }
      ],
      "source": [
        "##1 Cree una función que diga si un número es par o impar\n",
        "\n",
        "función_residuo <- function(n) {\n",
        "  n <- as.integer(readline(\"Ingrese un número: \"))\n",
        "  if (n %% 2 == 0) {\n",
        "    return(\"Par\")\n",
        "  } else {\n",
        "    return(\"Impar\")\n",
        "  }\n",
        "}\n",
        "print(función_residuo())\n"
      ]
    },
    {
      "cell_type": "code",
      "source": [
        "##2 Obtenga los cuadrados de los números enteros entre 4 y 12\n",
        "cuadrados <- c()\n",
        "for (n in 4:12) {\n",
        "  cuadrados <- c(cuadrados, n^2)\n",
        "  print(cuadrados)}\n"
      ],
      "metadata": {
        "colab": {
          "base_uri": "https://localhost:8080/"
        },
        "id": "qNiZ9hC9EkcX",
        "outputId": "9552c75c-ed96-419b-d537-50e430179cd9"
      },
      "execution_count": null,
      "outputs": [
        {
          "output_type": "stream",
          "name": "stdout",
          "text": [
            "[1] 16\n",
            "[1] 16 25\n",
            "[1] 16 25 36\n",
            "[1] 16 25 36 49\n",
            "[1] 16 25 36 49 64\n",
            "[1] 16 25 36 49 64 81\n",
            "[1]  16  25  36  49  64  81 100\n",
            "[1]  16  25  36  49  64  81 100 121\n",
            "[1]  16  25  36  49  64  81 100 121 144\n"
          ]
        }
      ]
    },
    {
      "cell_type": "code",
      "source": [
        "4# Cree un programa que imprima todos los pares desde 2 hasta el número que el usuario indique (que sea menor a 100).\n",
        "\n",
        "numero <- as.integer(readline(prompt = \"Ingresa un número menor a 100: \"))\n",
        "if (numero >= 100) {\n",
        "  cat(\"El número debe ser menor a 100.\\n\")\n",
        "} else {\n",
        "  cat(\"Números pares desde 2 hasta\", numero, \":\\n\")\n",
        "    for (i in 2:numero) {\n",
        "      if (i %% 2 == 0) {\n",
        "      print(i)\n",
        "    }\n",
        "  }\n",
        "}"
      ],
      "metadata": {
        "colab": {
          "base_uri": "https://localhost:8080/",
          "height": 108
        },
        "id": "FoyieuAHJUjm",
        "outputId": "92c378ee-d0f8-491e-c7d6-8ae5fda0cd15"
      },
      "execution_count": null,
      "outputs": [
        {
          "output_type": "display_data",
          "data": {
            "text/html": [
              "4"
            ],
            "text/markdown": "4",
            "text/latex": "4",
            "text/plain": [
              "[1] 4"
            ]
          },
          "metadata": {}
        },
        {
          "output_type": "stream",
          "name": "stdout",
          "text": [
            "Ingresa un número menor a 100: 5\n",
            "Números pares desde 2 hasta 5 :\n",
            "[1] 2\n",
            "[1] 4\n"
          ]
        }
      ]
    },
    {
      "cell_type": "code",
      "source": [
        "##4 Cree una función que imprima el factorial de un número\n",
        "# Función para calcular el factorial\n",
        "factorial_numero <- function(n) {\n",
        "  n <- as.integer(readline(\"Ingrese un número: \"))\n",
        "  if (n == 0) {\n",
        "    return(1)  # El factorial de 0 es 1\n",
        "  } else {\n",
        "    resultado <- 1\n",
        "    for (i in 1:n) {\n",
        "      resultado <- resultado * i\n",
        "    }\n",
        "    return(resultado)\n",
        "  }\n",
        "}\n",
        "\n",
        "print(factorial_numero())\n"
      ],
      "metadata": {
        "colab": {
          "base_uri": "https://localhost:8080/"
        },
        "id": "1tZC8o89HHs-",
        "outputId": "8e931a19-5b51-42c0-a2f6-e91b33533b2b"
      },
      "execution_count": null,
      "outputs": [
        {
          "output_type": "stream",
          "name": "stdout",
          "text": [
            "Ingrese un número: 8\n",
            "[1] 40320\n"
          ]
        }
      ]
    },
    {
      "cell_type": "code",
      "source": [
        "##5 Cree una función que calcule permutaciones\n",
        "# Función para calcular permutaciones\n",
        "# Función para calcular permutaciones\n",
        "permutaciones <- function(n, r) {\n",
        "  n <- as.integer(readline(\"Ingrese un número para n: \"))\n",
        "  r <- as.integer(readline(\"Ingrese un número r: \"))\n",
        "  if (r > n) {\n",
        "    return(\"Error: r no puede ser mayor que n\")\n",
        "  } else {\n",
        "    resultado <- factorial(n) / factorial(n - r)\n",
        "    return(resultado)\n",
        "\n",
        "  }\n",
        "}\n",
        "print((permutaciones(n,r)))\n"
      ],
      "metadata": {
        "colab": {
          "base_uri": "https://localhost:8080/"
        },
        "id": "VJCX8XZKEwcP",
        "outputId": "d889247b-64b1-4ba7-83c4-7a62036c7028"
      },
      "execution_count": null,
      "outputs": [
        {
          "output_type": "stream",
          "name": "stdout",
          "text": [
            "Ingrese un número para n: 5\n",
            "Ingrese un número r: 2\n",
            "[1] 20\n"
          ]
        }
      ]
    },
    {
      "cell_type": "code",
      "source": [
        "##6 Cree un a función que calcule combinaciones\n",
        "# Función para calcular combinaciones\n",
        "combinaciones <- function(n, r) {\n",
        "  n <- as.integer(readline(\"Ingrese un número para n: \"))\n",
        "  r <- as.integer(readline(\"Ingrese un número r: \"))\n",
        "  if (r > n) {\n",
        "    return(\"Error: r no puede ser mayor que n\")\n",
        "  } else {\n",
        "    # Calcular combinaciones usando la fórmula\n",
        "    resultado <- factorial(n) / (factorial(r) * factorial(n - r))\n",
        "    return(resultado)\n",
        "  }\n",
        "}\n",
        "\n",
        "# Ejemplo de uso\n",
        "print(combinaciones(n,r))"
      ],
      "metadata": {
        "colab": {
          "base_uri": "https://localhost:8080/"
        },
        "id": "6FbDeNYUF8k3",
        "outputId": "f42b5784-2efc-47e2-c0be-62e58ee76c10"
      },
      "execution_count": null,
      "outputs": [
        {
          "output_type": "stream",
          "name": "stdout",
          "text": [
            "Ingrese un número para n: 8\n",
            "Ingrese un número r: 5\n",
            "[1] 56\n"
          ]
        }
      ]
    }
  ]
}